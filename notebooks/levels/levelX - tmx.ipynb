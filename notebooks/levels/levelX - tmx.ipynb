{
 "cells": [
  {
   "cell_type": "markdown",
   "metadata": {},
   "source": [
    "# Levels\n",
    "\n",
    "### What is inside dir/ levels?\n",
    "\n",
    "Levels are files `${name}${index}.tmx`\n",
    "\n",
    "### Why use a .tmx file?\n",
    "\n",
    "### What manages the .tmx files?\n",
    "\n",
    "`npm install fast-xml-parser`"
   ]
  }
 ],
 "metadata": {
  "kernelspec": {
   "display_name": "Javascript (Node.js)",
   "language": "javascript",
   "name": "javascript"
  },
  "language_info": {
   "file_extension": ".js",
   "mimetype": "application/javascript",
   "name": "javascript",
   "version": "8.11.3"
  }
 },
 "nbformat": 4,
 "nbformat_minor": 2
}
