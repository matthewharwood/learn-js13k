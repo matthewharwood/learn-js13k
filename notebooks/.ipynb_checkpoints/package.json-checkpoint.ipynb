{
 "cells": [
  {
   "cell_type": "markdown",
   "metadata": {},
   "source": [
    "# Package.json"
   ]
  },
  {
   "cell_type": "markdown",
   "metadata": {},
   "source": [
    "# Whats inside?\n",
    "\n",
    "\n",
    "`archiver`\n",
    "\n",
    "- *Build time*\n",
    "- https://www.npmjs.com/package/archiver\n",
    "- Creates a zip or tar.gz file from a node stream. Comes with great events to append to a .zip file in real time based on stream output\n",
    "\n",
    "\n",
    "`cheerio`\n",
    "\n",
    "- *Build time*\n",
    "- Used to query dom `const _ = cheerio.load(\"<div>...</div>\");`\n",
    "- Used in the zip.js to to query html and to minify the html.\n",
    "\n",
    "\n",
    "`eslint`\n",
    "\n",
    "- *Dev time*\n",
    "- used to link during dev time\n",
    "\n",
    "`eslint-config-prettier\n",
    "\n",
    "- *Dev Time*\n",
    "- Will auto fix indentation based off prettier file.\n",
    "\n",
    "`fast-xml-parser`\n",
    "- *Build time*\n",
    "- Will parse the levelX.tmx \n",
    "- **NEED more research**\n",
    "\n",
    "`fernandez-polygon-decomposition`\n",
    "- **NEED MROE RESEARCH**\n",
    "- https://www.npmjs.com/package/fernandez-polygon-decomposition\n",
    "\n",
    "`html-minifier`\n",
    "- *Build time*\n",
    "- Minifys html `scripts/libs/minifyHtml.js`\n",
    "\n",
    "\n",
    "`mkdirp`\n",
    "- *build time*\n",
    "- Makes a directory during zip.js\n",
    "- will output to `winner/build` by calling `npm run build`\n",
    "\n",
    "`prettier`\n",
    "- *dev time*\n",
    "- Will auto syntaxcorrect your code\n",
    "\n",
    "`prettysize`\n",
    "- *dev time*\n",
    "- Will out put package size\n",
    "\n",
    "`csso`\n",
    "- *build time*\n",
    "- will optimize css run during `npm run build`\n",
    "\n",
    "`terser`\n",
    "\n",
    "- *build time*\n",
    "- will optimize JS. Run during `npm run build`\n",
    "\n",
    "\n"
   ]
  }
 ],
 "metadata": {
  "kernelspec": {
   "display_name": "Javascript (Node.js)",
   "language": "javascript",
   "name": "javascript"
  },
  "language_info": {
   "file_extension": ".js",
   "mimetype": "application/javascript",
   "name": "javascript",
   "version": "8.11.3"
  }
 },
 "nbformat": 4,
 "nbformat_minor": 2
}
