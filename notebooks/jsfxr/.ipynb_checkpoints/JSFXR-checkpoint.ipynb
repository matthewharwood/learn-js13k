{
 "cells": [
  {
   "cell_type": "markdown",
   "metadata": {},
   "source": [
    "# Synth for Javascript\n",
    "\n",
    "\n",
    "Heres an example of it:\n",
    "http://jsfiddle.net/mneubrand/tsC8j/6/\n",
    "\n",
    "Example input should be string or an array\n",
    "> Copy settings string (Just use Ctrl+C on the as3fxr page) and save it as a JavaScript array\n",
    "> String looks something like this: `\"0,,0.1812,,0.1349,0.4524,,0.2365,,,,,,0.0819,,,,,1,,,,,0.5\"`\n",
    "> Should be passed as JavaScript array like this: `[0,,0.1812,,0.1349,0.4524,,0.2365,,,,,,0.0819,,,,,1,,,,,0.5]`"
   ]
  },
  {
   "cell_type": "markdown",
   "metadata": {},
   "source": [
    "# How it's being used\n",
    "\n",
    "The author is using this as a git submodule\n",
    "\n",
    "`root/.gitmodules`\n",
    "\n",
    "```\n",
    "[submodule \"jsfxr\"]\n",
    "\tpath = jsfxr\n",
    "\turl = git@github.com:mneubrand/jsfxr.git\n",
    "```"
   ]
  },
  {
   "cell_type": "code",
   "execution_count": null,
   "metadata": {},
   "outputs": [],
   "source": []
  },
  {
   "cell_type": "code",
   "execution_count": null,
   "metadata": {},
   "outputs": [],
   "source": []
  }
 ],
 "metadata": {
  "kernelspec": {
   "display_name": "Javascript (Node.js)",
   "language": "javascript",
   "name": "javascript"
  },
  "language_info": {
   "file_extension": ".js",
   "mimetype": "application/javascript",
   "name": "javascript",
   "version": "8.11.3"
  }
 },
 "nbformat": 4,
 "nbformat_minor": 2
}
