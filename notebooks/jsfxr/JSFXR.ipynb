{
 "cells": [
  {
   "cell_type": "markdown",
   "metadata": {},
   "source": [
    "# Synth for Javascript\n",
    "\n",
    "\n",
    "JSFXR is the sfxr synth ported to javascript.\n",
    "- Here is the example of the port with a full UI: http://sfxr.me/\n"
   ]
  },
  {
   "cell_type": "markdown",
   "metadata": {},
   "source": [
    "## Where is it being used?\n",
    "\n",
    "is being used inside the `root/src/sound.js` file\n",
    "There are 5 sounds inside the game:\n",
    "\n",
    "\n",
    "```\n",
    "const move[0] = new Audio(\n",
    "  fxr([...]));\n",
    "  \n",
    "const switchDown = new Audio(\n",
    "  fxr([2, 0.0102, 0.066, 0.539, 0.1037, 0.2835, , -0.189, -0.322, , , 0.8999, , , , , , , 1, , , , , 0.5])\n",
    ")\n",
    "\n",
    "const switchUp = new Audio(\n",
    "  fxr([2, 0.0102, 0.066, 0.539, 0.1037, 0.239, , -0.189, -0.322, , , 0.8999, , , , , , , 1, , , , , 0.5])\n",
    ")\n",
    "\n",
    "const death = new Audio(fxr([1, , 0.3266, , 0.2971, 0.2594, , 0.2258, , , , , , , , 0.7482, , , 1, , , , , 0.5]))\n",
    "\n",
    "const winLevel = new Audio(\n",
    "  fxr([0, , 0.261, , 0.8055, 0.4874, , 0.1788, , , , , , 0.2292, , 0.4519, , , 1, , , , , 0.5])\n",
    ")\n",
    "```\n",
    "\n",
    "\n",
    "### To note about move sound:\n",
    "\n",
    "\n",
    "This is a guess but move is an array of the same sounds. I think the author did this so that they can play the sounds quickly because I blieve the browsers has problems playing an overlapping audio sample:\n",
    "\n",
    "- Ref: https://css-tricks.com/play-sound-on-hover/#article-header-id-1\n"
   ]
  },
  {
   "cell_type": "markdown",
   "metadata": {},
   "source": [
    "# Up and running JSFXR:\n",
    "\n",
    "The author is using this as a git submodule\n",
    "\n",
    "`root/.gitmodules`\n",
    "\n",
    "```\n",
    "[submodule \"jsfxr\"]\n",
    "\tpath = jsfxr\n",
    "\turl = git@github.com:mneubrand/jsfxr.git\n",
    "```\n",
    "\n",
    "What is left is an empty directory. If you want to pull in the submodules call:\n",
    "\n",
    "`$ git submodule update --init --recursive` Ref: vogella.com/tutorials/GitSubmodules/article.html"
   ]
  },
  {
   "cell_type": "markdown",
   "metadata": {},
   "source": [
    "## How it does JSFXR play audio?\n",
    "\n",
    "Heres an example of the Library JS Demo:\n",
    "http://jsfiddle.net/mneubrand/tsC8j/6/\n",
    "\n",
    "Example input should be string or an array\n",
    "> Copy settings string (Just use Ctrl+C on the as3fxr page) and save it as a JavaScript array\n",
    "> String looks something like this: `\"0,,0.1812,,0.1349,0.4524,,0.2365,,,,,,0.0819,,,,,1,,,,,0.5\"`\n",
    "> Should be passed as JavaScript array like this: `[0,,0.1812,,0.1349,0.4524,,0.2365,,,,,,0.0819,,,,,1,,,,,0.5]`\n",
    "\n",
    "jsfxr work using the  `new Audio()` API which can accept a url or an Audio/base64/{format} string.\n",
    "    \n",
    "- Sound Base64 converter: https://dopiaza.org/tools/datauri/index.php\n",
    "\n",
    "- Audio API: https://developer.mozilla.org/en-US/docs/Web/API/HTMLAudioElement/Audio\n",
    "    \n",
    "- Tom Vian / Author JSFXR https://twitter.com/sfbtom?lang=en\n",
    "   \n",
    "- Ref to StackQuestion: https://stackoverflow.com/questions/17762763/play-wav-sound-file-encoded-in-base64-with-javascript\n",
    "    "
   ]
  },
  {
   "cell_type": "code",
   "execution_count": null,
   "metadata": {},
   "outputs": [],
   "source": []
  }
 ],
 "metadata": {
  "kernelspec": {
   "display_name": "Javascript (Node.js)",
   "language": "javascript",
   "name": "javascript"
  },
  "language_info": {
   "file_extension": ".js",
   "mimetype": "application/javascript",
   "name": "javascript",
   "version": "8.11.3"
  }
 },
 "nbformat": 4,
 "nbformat_minor": 2
}
