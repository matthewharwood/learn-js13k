{
 "cells": [
  {
   "cell_type": "markdown",
   "metadata": {},
   "source": [
    "# `game.js`\n",
    "\n",
    "\n",
    "Manages the state of the game including:\n",
    "\n",
    "- level (loading, init, replaying)\n",
    "- scene state (Title screen, Dead Screen, Completed level scene)\n",
    "- ghosts (tracking history, adding)\n",
    "- Current Game Time/Tick\n",
    "- player controls\n",
    "- "
   ]
  }
 ],
 "metadata": {
  "kernelspec": {
   "display_name": "Javascript (Node.js)",
   "language": "javascript",
   "name": "javascript"
  },
  "language_info": {
   "file_extension": ".js",
   "mimetype": "application/javascript",
   "name": "javascript",
   "version": "8.11.3"
  }
 },
 "nbformat": 4,
 "nbformat_minor": 2
}
