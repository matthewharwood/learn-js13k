{
 "cells": [
  {
   "cell_type": "code",
   "execution_count": 1,
   "metadata": {},
   "outputs": [],
   "source": [
    "function Drawing(domNode) { console.log(domNode)}\n",
    "function Game(levels) {\n",
    "    const l = levels;\n",
    "    return {\n",
    "        loadLevel: (levelIndex) => { console.log('level index is ' + levelIndex)}\n",
    "    }\n",
    "}"
   ]
  },
  {
   "cell_type": "code",
   "execution_count": 2,
   "metadata": {},
   "outputs": [],
   "source": [
    "let g = new Game('Levels Structure goes here')"
   ]
  },
  {
   "cell_type": "code",
   "execution_count": 25,
   "metadata": {},
   "outputs": [
    {
     "data": {
      "text/plain": [
       "{ loadLevel: [Function: loadLevel] }"
      ]
     },
     "execution_count": 25,
     "metadata": {},
     "output_type": "execute_result"
    }
   ],
   "source": [
    "g"
   ]
  },
  {
   "cell_type": "code",
   "execution_count": 27,
   "metadata": {},
   "outputs": [
    {
     "name": "stdout",
     "output_type": "stream",
     "text": [
      "level index is 0\n"
     ]
    }
   ],
   "source": [
    "let levelIndex = 0;\n",
    "g.loadLevel(levelIndex)"
   ]
  },
  {
   "cell_type": "markdown",
   "metadata": {},
   "source": [
    "```\n",
    "let previous\n",
    "let accumulator = 0 //stores incrementing value (in seconds) until the next tick, when it's then decremented by 1 tick's length\n",
    "const update = time => {\n",
    "  requestAnimationFrame(update) // Sets the following frames in the raf Queue.\n",
    "  if (previous === undefined) { // base case initlization.\n",
    "    previous = time  // cache current time in previous variable\n",
    "  }\n",
    "  const dt = (time - previous) / 1000.0 // set dt (deltaTime) which is current time minus previous time.\n",
    "  accumulator += dt // add dt to accumulator.\n",
    "\n",
    "  if (accumulator > 1.0 / settings_tps) {  // if accumulated time is greater than 0.05\n",
    "    accumulator -= 1.0 / settings_tps\n",
    "    game.tick()\n",
    "  }\n",
    "  if (accumulator > 1.0 / settings_tps) {\n",
    "    accumulator = 1.0 / settings_tps\n",
    "  }\n",
    "\n",
    "  game.draw(accumulator, time / 1000.0, dt)\n",
    "\n",
    "  previous = time\n",
    "}\n",
    "requestAnimationFrame(update) // Sets the first frame in the raf Queue.\n",
    "```\n",
    "\n",
    "I asked the author https://twitter.com/bencoder more about this raf code and his response:\n",
    "\n",
    "> So tps is the ticks per second, that's the fixed step, what I use for recording the motion of the ghosts and all the game updates. But when rendering I interpolate between the player's previous position and their latest position based on the time since the last tick, the accumulator. Tou really don't need to do this to start out. And yeah the main reason to separate them is if your frame rate is changing a lot then your calculations can be unstable if you're doing physics calculations and stuff. The main reason I separated them though is because I wanted a fixed step to record the motion of the previous runs.\n",
    "\n",
    "\n",
    "Question: \n",
    "\n",
    "- Where is the interpolation between the player's previous position and their latest position handled?\n",
    "- What are some calculations that could be unstable if not seperated?\n",
    "- What are some examples of refresh rates messing up Game logic?\n"
   ]
  },
  {
   "cell_type": "code",
   "execution_count": null,
   "metadata": {},
   "outputs": [],
   "source": []
  }
 ],
 "metadata": {
  "kernelspec": {
   "display_name": "Javascript (Node.js)",
   "language": "javascript",
   "name": "javascript"
  },
  "language_info": {
   "file_extension": ".js",
   "mimetype": "application/javascript",
   "name": "javascript",
   "version": "8.11.3"
  }
 },
 "nbformat": 4,
 "nbformat_minor": 2
}
