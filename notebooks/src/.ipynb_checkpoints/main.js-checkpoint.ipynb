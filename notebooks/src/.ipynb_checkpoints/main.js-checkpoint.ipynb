{
 "cells": [
  {
   "cell_type": "code",
   "execution_count": null,
   "metadata": {},
   "outputs": [],
   "source": [
    "function Drawing(domNode) { console.log(domNode)}\n",
    "function Game(levels) {console.log(levels)}\n",
    "const Draw = new Drawing('canvasElement');\n",
    "const game = new Game([{end: {x: 1000, y: 1000}, start: {x: 0, y:0}}])"
   ]
  }
 ],
 "metadata": {
  "kernelspec": {
   "display_name": "Javascript (Node.js)",
   "language": "javascript",
   "name": "javascript"
  },
  "language_info": {
   "file_extension": ".js",
   "mimetype": "application/javascript",
   "name": "javascript",
   "version": "8.11.3"
  }
 },
 "nbformat": 4,
 "nbformat_minor": 2
}
